{
  "nbformat": 4,
  "nbformat_minor": 0,
  "metadata": {
    "colab": {
      "provenance": []
    },
    "kernelspec": {
      "name": "python3",
      "display_name": "Python 3"
    },
    "language_info": {
      "name": "python"
    }
  },
  "cells": [
    {
      "cell_type": "code",
      "execution_count": 42,
      "metadata": {
        "id": "2wqaRinWpA-z"
      },
      "outputs": [],
      "source": [
        "import pandas as pd\n",
        "import numpy as np\n",
        "from sklearn.model_selection import train_test_split\n",
        "from sklearn.ensemble import RandomForestRegressor\n",
        "from sklearn.preprocessing import OneHotEncoder\n",
        "from sklearn.compose import ColumnTransformer\n",
        "from sklearn.pipeline import Pipeline\n",
        "from sklearn.metrics import mean_squared_error\n",
        "from sklearn.preprocessing import StandardScaler\n",
        "from sklearn.metrics import r2_score,mean_absolute_error, mean_squared_error\n",
        "import matplotlib.pyplot as plt\n",
        "import seaborn as sns"
      ]
    },
    {
      "cell_type": "code",
      "source": [
        "# Load the Excel file\n",
        "df = pd.read_excel('/content/Test_Data.xlsx')"
      ],
      "metadata": {
        "id": "aov-80DspOah"
      },
      "execution_count": 3,
      "outputs": []
    },
    {
      "cell_type": "code",
      "source": [
        "df_model1 = df.dropna(subset=['Base Fare'])"
      ],
      "metadata": {
        "id": "wyErdqDDpeMK"
      },
      "execution_count": 4,
      "outputs": []
    },
    {
      "cell_type": "code",
      "source": [
        "features = [\n",
        "    'Doj', 'Route',\n",
        "    'Seating Capacity', 'Dept Time','Seats','Agent Amount','Agent Commission','Agents','Amount','Net Amount'\n",
        "]\n",
        "target = 'Base Fare'"
      ],
      "metadata": {
        "id": "X4g8MU9Ppovx"
      },
      "execution_count": 5,
      "outputs": []
    },
    {
      "cell_type": "code",
      "source": [
        "X = df_model1[features].copy()\n",
        "y = df_model1[target]"
      ],
      "metadata": {
        "id": "EC4oPB25ptax"
      },
      "execution_count": 6,
      "outputs": []
    },
    {
      "cell_type": "code",
      "source": [
        "X['Doj'] = pd.to_datetime(X['Doj'])\n",
        "X['Dept Time'] = pd.to_datetime(X['Dept Time'], format='%H:%M:%S', errors='coerce').dt.hour"
      ],
      "metadata": {
        "id": "2ii-r59ypxSA"
      },
      "execution_count": 7,
      "outputs": []
    },
    {
      "cell_type": "code",
      "source": [
        "X['Day'] = X['Doj'].dt.day\n",
        "X['Month'] = X['Doj'].dt.month\n",
        "X['Weekday'] = X['Doj'].dt.weekday\n",
        "X = X.drop(columns=['Doj'])"
      ],
      "metadata": {
        "id": "ULks4Oi3p0xh"
      },
      "execution_count": 8,
      "outputs": []
    },
    {
      "cell_type": "code",
      "source": [
        "categorical_cols = ['Route']\n",
        "numerical_cols = ['Seating Capacity', 'Weekday','Seats','Agent Amount','Agent Commission','Agents','Amount','Net Amount']"
      ],
      "metadata": {
        "id": "PczZfVAkqAE4"
      },
      "execution_count": 9,
      "outputs": []
    },
    {
      "cell_type": "code",
      "source": [
        "preprocessor = ColumnTransformer([\n",
        "    ('cat', OneHotEncoder(handle_unknown='ignore'), categorical_cols),\n",
        "    ('num', StandardScaler(), numerical_cols)\n",
        "])"
      ],
      "metadata": {
        "id": "_yf5V2VPqBD_"
      },
      "execution_count": 10,
      "outputs": []
    },
    {
      "cell_type": "code",
      "source": [
        "model_pipeline = Pipeline([\n",
        "    ('preprocessor', preprocessor),\n",
        "    ('regressor', RandomForestRegressor(random_state=42))\n",
        "])"
      ],
      "metadata": {
        "id": "MWXnrb4Gqk1y"
      },
      "execution_count": 11,
      "outputs": []
    },
    {
      "cell_type": "code",
      "source": [
        "X_train, X_test, y_train, y_test = train_test_split(X, y, test_size=0.2, random_state=42)\n"
      ],
      "metadata": {
        "id": "GJvWrd3HqJ75"
      },
      "execution_count": 12,
      "outputs": []
    },
    {
      "cell_type": "code",
      "source": [
        "df_model = model_pipeline.fit(X_train, y_train)"
      ],
      "metadata": {
        "id": "xvcIxAgPqR5A"
      },
      "execution_count": 13,
      "outputs": []
    },
    {
      "cell_type": "code",
      "source": [
        "y_pred = model_pipeline.predict(X_test)\n"
      ],
      "metadata": {
        "id": "xz6ul5-oq5tz"
      },
      "execution_count": 41,
      "outputs": []
    },
    {
      "cell_type": "code",
      "source": [
        "r2 = r2_score(y_test, y_pred)"
      ],
      "metadata": {
        "id": "cEYiLnWSxibv"
      },
      "execution_count": 37,
      "outputs": []
    },
    {
      "cell_type": "code",
      "source": [
        "r2"
      ],
      "metadata": {
        "colab": {
          "base_uri": "https://localhost:8080/"
        },
        "id": "074ryRQNx48f",
        "outputId": "93b03a98-f76a-411c-f3d4-e37a4f205257"
      },
      "execution_count": 38,
      "outputs": [
        {
          "output_type": "execute_result",
          "data": {
            "text/plain": [
              "0.9990191649659591"
            ]
          },
          "metadata": {},
          "execution_count": 38
        }
      ]
    },
    {
      "cell_type": "code",
      "source": [
        "mae = mean_absolute_error(y_test, y_pred)\n",
        "mse = mean_squared_error(y_test, y_pred)\n",
        "rmse = np.sqrt(mse)\n",
        "print(f\"MAE: {mae:.4f}\")\n",
        "print(f\"MSE: {mse:.4f}\")\n",
        "print(f\"RMSE: {rmse:.4f}\")"
      ],
      "metadata": {
        "colab": {
          "base_uri": "https://localhost:8080/"
        },
        "id": "SZUY0kgEyvJA",
        "outputId": "e21a5a46-6e78-4389-cd49-fd622cf9070e"
      },
      "execution_count": 40,
      "outputs": [
        {
          "output_type": "stream",
          "name": "stdout",
          "text": [
            "MAE: 2.7570\n",
            "MSE: 2075.0490\n",
            "RMSE: 45.5527\n"
          ]
        }
      ]
    },
    {
      "cell_type": "code",
      "source": [
        "plt.figure(figsize=(8, 6))\n",
        "plt.scatter(y_test, y_pred, color='royalblue', alpha=0.6, edgecolors='k')\n",
        "plt.plot([min(y_test), max(y_test)], [min(y_test), max(y_test)], color='red', linestyle='--', linewidth=2)  # Ideal line\n",
        "plt.title('Actual vs Predicted Values')\n",
        "plt.xlabel('Actual Values (y_test)')\n",
        "plt.ylabel('Predicted Values (y_pred)')\n",
        "plt.grid(True)\n",
        "plt.tight_layout()\n",
        "plt.show()"
      ],
      "metadata": {
        "colab": {
          "base_uri": "https://localhost:8080/",
          "height": 607
        },
        "id": "fUtpuBmZ0Drg",
        "outputId": "03a428f5-6e73-43aa-d25f-0580c9a78e4d"
      },
      "execution_count": 45,
      "outputs": [
        {
          "output_type": "display_data",
          "data": {
            "text/plain": [
              "<Figure size 800x600 with 1 Axes>"
            ],
            "image/png": "[encoded data removed]"
          },
          "metadata": {}
        }
      ]
    },
    {
      "cell_type": "code",
      "source": [
        "y_pred"
      ],
      "metadata": {
        "colab": {
          "base_uri": "https://localhost:8080/"
        },
        "id": "l3e6GpkHPAOY",
        "outputId": "c7b86677-082c-43ab-a020-27766f950967"
      },
      "execution_count": 16,
      "outputs": [
        {
          "output_type": "execute_result",
          "data": {
            "text/plain": [
              "array([1000.   ,  800.375, 1150.   , ..., 1292.95 , 1150.   , 1700.   ])"
            ]
          },
          "metadata": {},
          "execution_count": 16
        }
      ]
    },
    {
      "cell_type": "code",
      "source": [
        "Predicted_input = pd.read_excel('/content/Test1-data.xlsx')"
      ],
      "metadata": {
        "id": "TuCjE3nVmigk"
      },
      "execution_count": 17,
      "outputs": []
    },
    {
      "cell_type": "code",
      "source": [
        "features1 = [\n",
        "    'Doj', 'Route',\n",
        "    'Seating Capacity', 'Dept Time','Seats','Agent Amount','Agent Commission','Agents','Amount','Net Amount'\n",
        "]"
      ],
      "metadata": {
        "id": "mPdKZ7NhnCbl"
      },
      "execution_count": 18,
      "outputs": []
    },
    {
      "cell_type": "code",
      "source": [
        "X_predicted_input = Predicted_input[features1].copy()"
      ],
      "metadata": {
        "id": "LZHUuWtlmrSK"
      },
      "execution_count": 19,
      "outputs": []
    },
    {
      "cell_type": "code",
      "source": [
        "X_predicted_input['Doj'] = pd.to_datetime(X_predicted_input['Doj'])\n",
        "X_predicted_input['Dept Time'] = pd.to_datetime(X_predicted_input['Dept Time'], format='%H:%M:%S', errors='coerce').dt.hour"
      ],
      "metadata": {
        "id": "DEp3V3pVnOJs"
      },
      "execution_count": 20,
      "outputs": []
    },
    {
      "cell_type": "code",
      "source": [
        "X_predicted_input['Day'] = X_predicted_input['Doj'].dt.day\n",
        "X_predicted_input['Month'] = X_predicted_input['Doj'].dt.month\n",
        "X_predicted_input['Weekday'] = X_predicted_input['Doj'].dt.weekday\n",
        "X_predicted_input = X_predicted_input.drop(columns=['Doj'])"
      ],
      "metadata": {
        "id": "zs3AiUeFnWBN"
      },
      "execution_count": 21,
      "outputs": []
    },
    {
      "cell_type": "code",
      "source": [
        "Predicted_input['y_predict_base_price'] = model_pipeline.predict(X_predicted_input)\n"
      ],
      "metadata": {
        "id": "BhnnXtR2nr9Y"
      },
      "execution_count": 29,
      "outputs": []
    },
    {
      "cell_type": "code",
      "source": [
        "Predicted_input['y_predict_base_price']"
      ],
      "metadata": {
        "colab": {
          "base_uri": "https://localhost:8080/",
          "height": 458
        },
        "id": "hiUY_MInoAp1",
        "outputId": "685eed3b-5940-4810-e043-9f956bdd8eb1"
      },
      "execution_count": 34,
      "outputs": [
        {
          "output_type": "execute_result",
          "data": {
            "text/plain": [
              "0       972.000\n",
              "1       844.264\n",
              "2       972.000\n",
              "3       972.000\n",
              "4       486.000\n",
              "         ...   \n",
              "1122    972.000\n",
              "1123    619.710\n",
              "1124    619.710\n",
              "1125    486.000\n",
              "1126    486.000\n",
              "Name: y_predict_base_price, Length: 1127, dtype: float64"
            ],
            "text/html": [
              "<div>\n",
              "<style scoped>\n",
              "    .dataframe tbody tr th:only-of-type {\n",
              "        vertical-align: middle;\n",
              "    }\n",
              "\n",
              "    .dataframe tbody tr th {\n",
              "        vertical-align: top;\n",
              "    }\n",
              "\n",
              "    .dataframe thead th {\n",
              "        text-align: right;\n",
              "    }\n",
              "</style>\n",
              "<table border=\"1\" class=\"dataframe\">\n",
              "  <thead>\n",
              "    <tr style=\"text-align: right;\">\n",
              "      <th></th>\n",
              "      <th>y_predict_base_price</th>\n",
              "    </tr>\n",
              "  </thead>\n",
              "  <tbody>\n",
              "    <tr>\n",
              "      <th>0</th>\n",
              "      <td>972.000</td>\n",
              "    </tr>\n",
              "    <tr>\n",
              "      <th>1</th>\n",
              "      <td>844.264</td>\n",
              "    </tr>\n",
              "    <tr>\n",
              "      <th>2</th>\n",
              "      <td>972.000</td>\n",
              "    </tr>\n",
              "    <tr>\n",
              "      <th>3</th>\n",
              "      <td>972.000</td>\n",
              "    </tr>\n",
              "    <tr>\n",
              "      <th>4</th>\n",
              "      <td>486.000</td>\n",
              "    </tr>\n",
              "    <tr>\n",
              "      <th>...</th>\n",
              "      <td>...</td>\n",
              "    </tr>\n",
              "    <tr>\n",
              "      <th>1122</th>\n",
              "      <td>972.000</td>\n",
              "    </tr>\n",
              "    <tr>\n",
              "      <th>1123</th>\n",
              "      <td>619.710</td>\n",
              "    </tr>\n",
              "    <tr>\n",
              "      <th>1124</th>\n",
              "      <td>619.710</td>\n",
              "    </tr>\n",
              "    <tr>\n",
              "      <th>1125</th>\n",
              "      <td>486.000</td>\n",
              "    </tr>\n",
              "    <tr>\n",
              "      <th>1126</th>\n",
              "      <td>486.000</td>\n",
              "    </tr>\n",
              "  </tbody>\n",
              "</table>\n",
              "<p>1127 rows × 1 columns</p>\n",
              "</div><br><label><b>dtype:</b> float64</label>"
            ]
          },
          "metadata": {},
          "execution_count": 34
        }
      ]
    },
    {
      "cell_type": "code",
      "source": [
        "Predicted_input.to_csv('Predicted_input.csv', index=False)"
      ],
      "metadata": {
        "id": "Iz8_W8Ehp_qd"
      },
      "execution_count": 35,
      "outputs": []
    }
  ]
}